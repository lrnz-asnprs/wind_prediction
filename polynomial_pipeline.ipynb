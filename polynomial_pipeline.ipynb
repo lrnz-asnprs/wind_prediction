{
 "cells": [
  {
   "cell_type": "code",
   "execution_count": null,
   "source": [
    "## Getting the data\r\n",
    "from influxdb import InfluxDBClient # install via \" pip install influxdb \"\r\n",
    "import pandas as pd\r\n",
    "\r\n",
    "client = InfluxDBClient (host='influxus.itu.dk', port =8086, username ='lsda',\r\n",
    "password ='icanonlyread')\r\n",
    "client.switch_database ('orkney')\r\n",
    "\r\n",
    "def get_df(results):\r\n",
    "    values = results.raw[\"series\"][0][\"values\"]\r\n",
    "    columns = results.raw[\"series\"][0][\"columns\"]\r\n",
    "    df = pd.DataFrame(values, columns=columns).set_index(\"time\")\r\n",
    "    df.index = pd.to_datetime(df.index ) # Convert to datetime - index\r\n",
    "    return df\r\n",
    "\r\n",
    "# Get the last 90 days of power generation data\r\n",
    "generation = client.query (\r\n",
    "    \"SELECT * FROM Generation where time > now()-90d\" # SELECT mean(Total) as Total FROM Generation where time > now()-90d group by time(3h)\r\n",
    "    ) # Query written in InfluxQL\r\n",
    "\r\n",
    "# Alternative query to align both datasets (group by time every 3 hours)\r\n",
    "generation_1 = client.query (\r\n",
    "    \"SELECT sum(Total) as Total FROM Generation where time > now()-720d group by time(3h)\" \r\n",
    "    )\r\n",
    "\r\n",
    "# Get the last 90 days of weather forecasts with the shortest lead time\r\n",
    "wind = client.query(\r\n",
    "    \"SELECT * FROM MetForecasts where time > now()-720d and time <= now() and Lead_hours = '1'\"\r\n",
    "    )# Query written in InfluxQL\r\n",
    "\r\n",
    "# generator power every minute\r\n",
    "gen_df = get_df(generation)\r\n",
    "# generator power grouped by every 3 hours\r\n",
    "gen_df_3h = get_df(generation_1)\r\n",
    "# wind speed forecast every 3 hours\r\n",
    "wind_df = get_df(wind)"
   ],
   "outputs": [],
   "metadata": {}
  },
  {
   "cell_type": "code",
   "execution_count": null,
   "source": [
    "# step 1: joining df\r\n",
    "\r\n",
    "df = pd.concat([wind_df, gen_df_3h], axis=1) # one way of concatenating two datasets; \r\n",
    "\r\n",
    "# df = gen_df_3h.join(wind_df, how=\"inner\")\r\n",
    "\r\n",
    "df.head()"
   ],
   "outputs": [],
   "metadata": {}
  },
  {
   "cell_type": "code",
   "execution_count": null,
   "source": [
    "# step 2: drop unnecessary cols\r\n",
    "\r\n",
    "df.isnull().sum() # 100 + null values for Total\r\n",
    "\r\n",
    "# df[df.isnull().any(axis=1)] # using axis=1 to select all rows where there is at least one NaN value\r\n",
    "\r\n",
    "# df.dropna(how=\"any\", inplace=True)\r\n",
    "\r\n",
    "df.isnull().sum()\r\n",
    "\r\n",
    "df.drop([\"Lead_hours\", \"Source_time\"], axis=1, inplace=True)"
   ],
   "outputs": [],
   "metadata": {}
  },
  {
   "cell_type": "code",
   "execution_count": null,
   "source": [
    "# Use preprocessing steps from SciKit for instance\r\n",
    "from sklearn.impute import SimpleImputer\r\n",
    "from sklearn.compose import ColumnTransformer\r\n",
    "from sklearn.pipeline import Pipeline\r\n",
    "from sklearn.base import BaseEstimator, TransformerMixin\r\n",
    "from sklearn.neighbors import KNeighborsRegressor\r\n",
    "import numpy as np\r\n",
    "from sklearn.model_selection import train_test_split\r\n",
    "import pandas as pd\r\n",
    "from sklearn.preprocessing import StandardScaler\r\n",
    "from sklearn.preprocessing import OneHotEncoder\r\n",
    "\r\n",
    "num_pipe = Pipeline([\r\n",
    "    ('impute', SimpleImputer(strategy='median', copy=False)),\r\n",
    "    ('std_scaler', StandardScaler(copy=False)),\r\n",
    "])\r\n",
    "\r\n",
    "cat_pipe = Pipeline([\r\n",
    "    ('one_hot', OneHotEncoder(sparse=False, handle_unknown='ignore')),\r\n",
    "])\r\n",
    "\r\n",
    "full_transform = ColumnTransformer([\r\n",
    "    (\"num\", num_pipe, [\"Speed\", \"Total\"]),\r\n",
    "    (\"cat\", cat_pipe, [\"Direction\"]),\r\n",
    "])\r\n",
    "\r\n",
    "full_pipeline = Pipeline([\r\n",
    "    ('trf', full_transform)\r\n",
    "])\r\n",
    "\r\n",
    "# transform_1 = ColumnTransformer([\r\n",
    "#     ('impute', SimpleImputer(strategy='median', copy=False), [\"Speed\"]),\r\n",
    "#     ('std_scaler', StandardScaler(copy=False), [0]),\r\n",
    "# ])\r\n",
    "\r\n",
    "# transform_2 = ColumnTransformer([\r\n",
    "#     ('one_hot', OneHotEncoder(sparse=False, handle_unknown='ignore'), [1]),\r\n",
    "# ])\r\n",
    "\r\n",
    "# pipe = Pipeline([\r\n",
    "#     ('trf1', transform_1),\r\n",
    "#     ('trf2', transform_2)\r\n",
    "# ])\r\n",
    "\r\n",
    "# df_transf = pd.DataFrame(transform_1.fit_transform(X_train))\r\n",
    "\r\n",
    "# Trying out full preprocessing pipeline\r\n",
    "# Transforming numerical attributes\r\n",
    "# num_pipeline = Pipeline([\r\n",
    "#     ('imputer', SimpleImputer(strategy='median')),\r\n",
    "#     ('std_scaler', StandardScaler()),\r\n",
    "# ])\r\n",
    "\r\n",
    "# Full pipeline harmonized with ColumnTransformer \r\n",
    "# full_pipeline = ColumnTransformer([\r\n",
    "#     ('num', num_pipeline, [\"Speed\", \"Total\"]),\r\n",
    "#     # ('cat', OneHotEncoder(), [\"Direction\"]),\r\n",
    "# ])\r\n",
    "\r\n",
    "\r\n",
    "data_prepared = full_pipeline.fit_transform(df)\r\n",
    "\r\n",
    "df_prepared = pd.DataFrame(data_prepared)\r\n",
    "\r\n",
    "df_prepared.rename(columns={ df_prepared.columns[0]: \"Speed\", df_prepared.columns[1]: \"Total\"}, inplace=True)\r\n",
    "\r\n",
    "df_prepared"
   ],
   "outputs": [],
   "metadata": {}
  },
  {
   "cell_type": "code",
   "execution_count": null,
   "source": [
    "# Split data\r\n",
    "y_ = df_prepared[[\"Total\"]]\r\n",
    "\r\n",
    "df_prepared.drop([\"Total\"], axis=1, inplace=True)\r\n",
    "\r\n",
    "#  now split data into training & test\r\n",
    "# X_train, X_test, y_train, y_test = train_test_split(df_prepared, y_, test_size=0.2, random_state=42, shuffle=False)\r\n"
   ],
   "outputs": [],
   "metadata": {}
  },
  {
   "cell_type": "code",
   "execution_count": null,
   "source": [
    "#  now split data into training & test\r\n",
    "X_train, X_test, y_train, y_test = train_test_split(df_prepared, y_, test_size=0.33, random_state=42, shuffle=False)"
   ],
   "outputs": [],
   "metadata": {}
  },
  {
   "cell_type": "code",
   "execution_count": null,
   "source": [
    "# Polynomial Feature Reg\r\n",
    "from sklearn.linear_model import LinearRegression\r\n",
    "from sklearn.preprocessing import PolynomialFeatures\r\n",
    "\r\n",
    "poly = PolynomialFeatures(degree=2)\r\n",
    "X_ = poly.fit_transform(X_train)\r\n",
    "X_test_ = poly.fit_transform(X_test)\r\n",
    "\r\n",
    "lin_reg = LinearRegression()\r\n",
    "lin_reg.fit(X_, y_train)\r\n",
    "\r\n",
    "lin_reg.score(X_test_, y_test)"
   ],
   "outputs": [],
   "metadata": {}
  },
  {
   "cell_type": "code",
   "execution_count": null,
   "source": [
    "# make prediction and combine results\r\n",
    "# make prediction based on test data\r\n",
    "y_prediction = pd.DataFrame(lin_reg.predict(X_test_))\r\n",
    "y_prediction.rename(columns={ y_prediction.columns[0]: \"Prediction\"}, inplace=True)\r\n",
    "\r\n",
    "# get x test data\r\n",
    "X_test_df = pd.DataFrame(X_test_[:,1])\r\n",
    "X_test_df.rename(columns={X_test_df.columns[0]: \"Speed\"}, inplace=True) \r\n",
    "\r\n",
    "df_prediction_combined = pd.concat([X_test_df, y_prediction], axis=1)\r\n",
    "\r\n",
    "df_prediction_combined"
   ],
   "outputs": [],
   "metadata": {}
  },
  {
   "cell_type": "code",
   "execution_count": null,
   "source": [
    "# example visualize data results\r\n",
    "import seaborn as sns\r\n",
    "sns.set(color_codes=True)\r\n",
    "\r\n",
    "# very useful\r\n",
    "# sns.pairplot(df)\r\n",
    "\r\n",
    "# one scatterplot showing the test values\r\n",
    "sns.scatterplot(X_test[\"Speed\"], y_test[\"Total\"])\r\n",
    "\r\n",
    "# other plot showing the estimated values\r\n",
    "sns.regplot(x=\"Speed\", y=\"Prediction\", data=df_prediction_combined,\r\n",
    "           order=2, ci=None, scatter_kws={\"s\": 5}, color=\"red\")\r\n"
   ],
   "outputs": [],
   "metadata": {}
  },
  {
   "cell_type": "code",
   "execution_count": null,
   "source": [
    "# just testing around\r\n",
    "\r\n",
    "from matplotlib import pyplot as plt\r\n",
    "\r\n",
    "sns.regplot(x=\"Speed\", y=\"Total\", data=df_prediction_combined,\r\n",
    "           order=2, ci=None, scatter_kws={\"s\": 5})"
   ],
   "outputs": [],
   "metadata": {}
  },
  {
   "cell_type": "code",
   "execution_count": 287,
   "source": [
    "# knearest neighbor model\r\n",
    "from sklearn.neighbors import KNeighborsRegressor\r\n",
    "\r\n",
    "kneighbor = KNeighborsRegressor(n_neighbors=10) #increased better results\r\n",
    "\r\n",
    "kneighbor.fit(X_, y_train)\r\n",
    "\r\n",
    "kneighbor.score(X_test_, y_test)\r\n"
   ],
   "outputs": [
    {
     "output_type": "execute_result",
     "data": {
      "text/plain": [
       "0.7018055484999752"
      ]
     },
     "metadata": {},
     "execution_count": 287
    }
   ],
   "metadata": {}
  },
  {
   "cell_type": "code",
   "execution_count": 278,
   "source": [
    "# predict with kneighbor\r\n",
    "y_predicted_kn = pd.DataFrame(kneighbor.predict(X_test_))\r\n",
    "y_predicted_kn.rename(columns={ y_predicted_kn.columns[0]: \"Prediction\"}, inplace=True)\r\n",
    "\r\n",
    "df_prediction_combined_kn = pd.concat([X_test_df, y_predicted_kn], axis=1) #X_test_df from above\r\n",
    "\r\n",
    "df_prediction_combined"
   ],
   "outputs": [
    {
     "output_type": "execute_result",
     "data": {
      "text/html": [
       "<div>\n",
       "<style scoped>\n",
       "    .dataframe tbody tr th:only-of-type {\n",
       "        vertical-align: middle;\n",
       "    }\n",
       "\n",
       "    .dataframe tbody tr th {\n",
       "        vertical-align: top;\n",
       "    }\n",
       "\n",
       "    .dataframe thead th {\n",
       "        text-align: right;\n",
       "    }\n",
       "</style>\n",
       "<table border=\"1\" class=\"dataframe\">\n",
       "  <thead>\n",
       "    <tr style=\"text-align: right;\">\n",
       "      <th></th>\n",
       "      <th>Speed</th>\n",
       "      <th>Prediction</th>\n",
       "    </tr>\n",
       "  </thead>\n",
       "  <tbody>\n",
       "    <tr>\n",
       "      <th>0</th>\n",
       "      <td>-0.587007</td>\n",
       "      <td>-0.463867</td>\n",
       "    </tr>\n",
       "    <tr>\n",
       "      <th>1</th>\n",
       "      <td>-0.052614</td>\n",
       "      <td>0.170898</td>\n",
       "    </tr>\n",
       "    <tr>\n",
       "      <th>2</th>\n",
       "      <td>-0.266371</td>\n",
       "      <td>-0.078369</td>\n",
       "    </tr>\n",
       "    <tr>\n",
       "      <th>3</th>\n",
       "      <td>-0.052614</td>\n",
       "      <td>0.039551</td>\n",
       "    </tr>\n",
       "    <tr>\n",
       "      <th>4</th>\n",
       "      <td>0.161143</td>\n",
       "      <td>0.338867</td>\n",
       "    </tr>\n",
       "    <tr>\n",
       "      <th>...</th>\n",
       "      <td>...</td>\n",
       "      <td>...</td>\n",
       "    </tr>\n",
       "    <tr>\n",
       "      <th>1897</th>\n",
       "      <td>-0.587007</td>\n",
       "      <td>-0.376953</td>\n",
       "    </tr>\n",
       "    <tr>\n",
       "      <th>1898</th>\n",
       "      <td>-0.800764</td>\n",
       "      <td>-0.644043</td>\n",
       "    </tr>\n",
       "    <tr>\n",
       "      <th>1899</th>\n",
       "      <td>-0.266371</td>\n",
       "      <td>-0.110840</td>\n",
       "    </tr>\n",
       "    <tr>\n",
       "      <th>1900</th>\n",
       "      <td>-0.800764</td>\n",
       "      <td>-0.588867</td>\n",
       "    </tr>\n",
       "    <tr>\n",
       "      <th>1901</th>\n",
       "      <td>-0.800764</td>\n",
       "      <td>-0.588867</td>\n",
       "    </tr>\n",
       "  </tbody>\n",
       "</table>\n",
       "<p>1902 rows × 2 columns</p>\n",
       "</div>"
      ],
      "text/plain": [
       "         Speed  Prediction\n",
       "0    -0.587007   -0.463867\n",
       "1    -0.052614    0.170898\n",
       "2    -0.266371   -0.078369\n",
       "3    -0.052614    0.039551\n",
       "4     0.161143    0.338867\n",
       "...        ...         ...\n",
       "1897 -0.587007   -0.376953\n",
       "1898 -0.800764   -0.644043\n",
       "1899 -0.266371   -0.110840\n",
       "1900 -0.800764   -0.588867\n",
       "1901 -0.800764   -0.588867\n",
       "\n",
       "[1902 rows x 2 columns]"
      ]
     },
     "metadata": {},
     "execution_count": 278
    }
   ],
   "metadata": {}
  },
  {
   "cell_type": "code",
   "execution_count": 279,
   "source": [
    "# one scatterplot showing the test values\r\n",
    "sns.scatterplot(X_test[\"Speed\"], y_test[\"Total\"])\r\n",
    "\r\n",
    "# other plot showing the estimated values\r\n",
    "sns.regplot(x=\"Speed\", y=\"Prediction\", data=df_prediction_combined_kn,\r\n",
    "           order=2, ci=None, scatter_kws={\"s\": 5}, color=\"red\")"
   ],
   "outputs": [
    {
     "output_type": "stream",
     "name": "stderr",
     "text": [
      "C:\\Python39\\lib\\site-packages\\seaborn\\_decorators.py:36: FutureWarning: Pass the following variables as keyword args: x, y. From version 0.12, the only valid positional argument will be `data`, and passing other arguments without an explicit keyword will result in an error or misinterpretation.\n",
      "  warnings.warn(\n"
     ]
    },
    {
     "output_type": "execute_result",
     "data": {
      "text/plain": [
       "<AxesSubplot:xlabel='Speed', ylabel='Prediction'>"
      ]
     },
     "metadata": {},
     "execution_count": 279
    },
    {
     "output_type": "display_data",
     "data": {
      "image/png": "[encoded data removed]",
      "text/plain": [
       "<Figure size 432x288 with 1 Axes>"
      ]
     },
     "metadata": {}
    }
   ],
   "metadata": {}
  },
  {
   "cell_type": "code",
   "execution_count": 280,
   "source": [
    "# Evaluate with kfold cross validation\r\n",
    "from sklearn.model_selection import KFold\r\n",
    "from sklearn.model_selection import cross_val_score\r\n",
    "from sklearn.model_selection import ShuffleSplit\r\n",
    "from numpy import mean\r\n",
    "from numpy import std\r\n",
    "\r\n",
    "#prepare cross validation procedure\r\n",
    "cv = KFold(n_splits=5, random_state=None)\r\n",
    "# evaluate linear regression model\r\n",
    "scores_lin_reg = cross_val_score(lin_reg, df_prepared[[\"Speed\"]], y_, cv=cv)\r\n",
    "scores_kneighbors = cross_val_score(kneighbor, df_prepared[[\"Speed\"]], y_, cv=cv)\r\n",
    "\r\n",
    "#report performance\r\n",
    "print(\"Accuracy Linear Regression: %.3f (%.3f)\" % (scores_lin_reg.mean(), scores_lin_reg.std()))\r\n",
    "print(\"Accuracy K-nearest neighbors: %.3f (%.3f)\" % (scores_kneighbors.mean(), scores_kneighbors.std()))\r\n"
   ],
   "outputs": [
    {
     "output_type": "stream",
     "name": "stdout",
     "text": [
      "Accuracy Linear Regression: 0.595 (0.042)\n",
      "Accuracy K-nearest neighbors: 0.632 (0.046)\n"
     ]
    }
   ],
   "metadata": {}
  },
  {
   "cell_type": "code",
   "execution_count": null,
   "source": [],
   "outputs": [],
   "metadata": {}
  }
 ],
 "metadata": {
  "orig_nbformat": 4,
  "language_info": {
   "name": "python",
   "version": "3.9.6",
   "mimetype": "text/x-python",
   "codemirror_mode": {
    "name": "ipython",
    "version": 3
   },
   "pygments_lexer": "ipython3",
   "nbconvert_exporter": "python",
   "file_extension": ".py"
  },
  "kernelspec": {
   "name": "python3",
   "display_name": "Python 3.9.6 64-bit"
  },
  "interpreter": {
   "hash": "63fd5069d213b44bf678585dea6b12cceca9941eaf7f819626cde1f2670de90d"
  }
 },
 "nbformat": 4,
 "nbformat_minor": 2
}